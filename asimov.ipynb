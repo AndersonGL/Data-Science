{
  "cells": [
    {
      "cell_type": "markdown",
      "metadata": {
        "colab_type": "text",
        "id": "view-in-github"
      },
      "source": [
        "<a href=\"https://colab.research.google.com/github/AndersonGL/Data-Science/blob/main/asimov.ipynb\" target=\"_parent\"><img src=\"https://colab.research.google.com/assets/colab-badge.svg\" alt=\"Open In Colab\"/></a>"
      ]
    },
    {
      "cell_type": "code",
      "execution_count": null,
      "metadata": {
        "id": "W2zT_r3ABWrb"
      },
      "outputs": [],
      "source": [
        "api_key = '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'"
      ]
    },
    {
      "cell_type": "code",
      "execution_count": 1,
      "metadata": {
        "colab": {
          "base_uri": "https://localhost:8080/"
        },
        "id": "mGF332jxBa5N",
        "outputId": "544b3237-6755-4f96-8a3d-bb713f332669"
      },
      "outputs": [
        {
          "name": "stdout",
          "output_type": "stream",
          "text": [
            "Collecting langchain==0.3.0\n",
            "  Using cached langchain-0.3.0-py3-none-any.whl.metadata (7.1 kB)\n",
            "Requirement already satisfied: PyYAML>=5.3 in c:\\users\\anderson g lignelli\\appdata\\local\\programs\\python\\python313\\lib\\site-packages (from langchain==0.3.0) (6.0.2)\n",
            "Requirement already satisfied: SQLAlchemy<3,>=1.4 in c:\\users\\anderson g lignelli\\appdata\\local\\programs\\python\\python313\\lib\\site-packages (from langchain==0.3.0) (2.0.38)\n",
            "Requirement already satisfied: aiohttp<4.0.0,>=3.8.3 in c:\\users\\anderson g lignelli\\appdata\\local\\programs\\python\\python313\\lib\\site-packages (from langchain==0.3.0) (3.11.12)\n",
            "Requirement already satisfied: langchain-core<0.4.0,>=0.3.0 in c:\\users\\anderson g lignelli\\appdata\\local\\programs\\python\\python313\\lib\\site-packages (from langchain==0.3.0) (0.3.34)\n",
            "Requirement already satisfied: langchain-text-splitters<0.4.0,>=0.3.0 in c:\\users\\anderson g lignelli\\appdata\\local\\programs\\python\\python313\\lib\\site-packages (from langchain==0.3.0) (0.3.6)\n",
            "Collecting langsmith<0.2.0,>=0.1.17 (from langchain==0.3.0)\n",
            "  Using cached langsmith-0.1.147-py3-none-any.whl.metadata (14 kB)\n",
            "Collecting numpy<2.0.0,>=1.26.0 (from langchain==0.3.0)\n",
            "  Using cached numpy-1.26.4.tar.gz (15.8 MB)\n"
          ]
        },
        {
          "name": "stderr",
          "output_type": "stream",
          "text": [
            "ERROR: Could not install packages due to an OSError: [Errno 2] No such file or directory: 'C:\\\\Users\\\\Anderson G Lignelli\\\\AppData\\\\Local\\\\Temp\\\\pip-install-p22_nm2f\\\\numpy_45f6108b722243a48ad902b5d8a09e88\\\\vendored-meson\\\\meson\\\\test cases\\\\linuxlike\\\\13 cmake dependency\\\\cmake_pref_env\\\\lib\\\\cmake\\\\cmMesonVersionedTestDep\\\\cmMesonVersionedTestDepConfigVersion.cmake'\n",
            "HINT: This error might have occurred since this system does not have Windows Long Path support enabled. You can find information on how to enable this at https://pip.pypa.io/warnings/enable-long-paths\n",
            "\n"
          ]
        },
        {
          "name": "stdout",
          "output_type": "stream",
          "text": [
            "Requirement already satisfied: langchain-groq==0.2.0 in c:\\users\\anderson g lignelli\\appdata\\local\\programs\\python\\python313\\lib\\site-packages (0.2.0)\n",
            "Requirement already satisfied: groq<1,>=0.4.1 in c:\\users\\anderson g lignelli\\appdata\\local\\programs\\python\\python313\\lib\\site-packages (from langchain-groq==0.2.0) (0.18.0)\n",
            "Requirement already satisfied: langchain-core<0.4,>=0.3 in c:\\users\\anderson g lignelli\\appdata\\local\\programs\\python\\python313\\lib\\site-packages (from langchain-groq==0.2.0) (0.3.34)\n",
            "Requirement already satisfied: anyio<5,>=3.5.0 in c:\\users\\anderson g lignelli\\appdata\\local\\programs\\python\\python313\\lib\\site-packages (from groq<1,>=0.4.1->langchain-groq==0.2.0) (4.8.0)\n",
            "Requirement already satisfied: distro<2,>=1.7.0 in c:\\users\\anderson g lignelli\\appdata\\local\\programs\\python\\python313\\lib\\site-packages (from groq<1,>=0.4.1->langchain-groq==0.2.0) (1.9.0)\n",
            "Requirement already satisfied: httpx<1,>=0.23.0 in c:\\users\\anderson g lignelli\\appdata\\local\\programs\\python\\python313\\lib\\site-packages (from groq<1,>=0.4.1->langchain-groq==0.2.0) (0.28.1)\n",
            "Requirement already satisfied: pydantic<3,>=1.9.0 in c:\\users\\anderson g lignelli\\appdata\\local\\programs\\python\\python313\\lib\\site-packages (from groq<1,>=0.4.1->langchain-groq==0.2.0) (2.10.6)\n",
            "Requirement already satisfied: sniffio in c:\\users\\anderson g lignelli\\appdata\\local\\programs\\python\\python313\\lib\\site-packages (from groq<1,>=0.4.1->langchain-groq==0.2.0) (1.3.1)\n",
            "Requirement already satisfied: typing-extensions<5,>=4.10 in c:\\users\\anderson g lignelli\\appdata\\local\\programs\\python\\python313\\lib\\site-packages (from groq<1,>=0.4.1->langchain-groq==0.2.0) (4.12.2)\n",
            "Requirement already satisfied: langsmith<0.4,>=0.1.125 in c:\\users\\anderson g lignelli\\appdata\\local\\programs\\python\\python313\\lib\\site-packages (from langchain-core<0.4,>=0.3->langchain-groq==0.2.0) (0.3.8)\n",
            "Requirement already satisfied: tenacity!=8.4.0,<10.0.0,>=8.1.0 in c:\\users\\anderson g lignelli\\appdata\\local\\programs\\python\\python313\\lib\\site-packages (from langchain-core<0.4,>=0.3->langchain-groq==0.2.0) (9.0.0)\n",
            "Requirement already satisfied: jsonpatch<2.0,>=1.33 in c:\\users\\anderson g lignelli\\appdata\\local\\programs\\python\\python313\\lib\\site-packages (from langchain-core<0.4,>=0.3->langchain-groq==0.2.0) (1.33)\n",
            "Requirement already satisfied: PyYAML>=5.3 in c:\\users\\anderson g lignelli\\appdata\\local\\programs\\python\\python313\\lib\\site-packages (from langchain-core<0.4,>=0.3->langchain-groq==0.2.0) (6.0.2)\n",
            "Requirement already satisfied: packaging<25,>=23.2 in c:\\users\\anderson g lignelli\\appdata\\roaming\\python\\python313\\site-packages (from langchain-core<0.4,>=0.3->langchain-groq==0.2.0) (24.2)\n",
            "Requirement already satisfied: idna>=2.8 in c:\\users\\anderson g lignelli\\appdata\\local\\programs\\python\\python313\\lib\\site-packages (from anyio<5,>=3.5.0->groq<1,>=0.4.1->langchain-groq==0.2.0) (3.10)\n",
            "Requirement already satisfied: certifi in c:\\users\\anderson g lignelli\\appdata\\local\\programs\\python\\python313\\lib\\site-packages (from httpx<1,>=0.23.0->groq<1,>=0.4.1->langchain-groq==0.2.0) (2024.12.14)\n",
            "Requirement already satisfied: httpcore==1.* in c:\\users\\anderson g lignelli\\appdata\\local\\programs\\python\\python313\\lib\\site-packages (from httpx<1,>=0.23.0->groq<1,>=0.4.1->langchain-groq==0.2.0) (1.0.7)\n",
            "Requirement already satisfied: h11<0.15,>=0.13 in c:\\users\\anderson g lignelli\\appdata\\local\\programs\\python\\python313\\lib\\site-packages (from httpcore==1.*->httpx<1,>=0.23.0->groq<1,>=0.4.1->langchain-groq==0.2.0) (0.14.0)\n",
            "Requirement already satisfied: jsonpointer>=1.9 in c:\\users\\anderson g lignelli\\appdata\\local\\programs\\python\\python313\\lib\\site-packages (from jsonpatch<2.0,>=1.33->langchain-core<0.4,>=0.3->langchain-groq==0.2.0) (3.0.0)\n",
            "Requirement already satisfied: orjson<4.0.0,>=3.9.14 in c:\\users\\anderson g lignelli\\appdata\\local\\programs\\python\\python313\\lib\\site-packages (from langsmith<0.4,>=0.1.125->langchain-core<0.4,>=0.3->langchain-groq==0.2.0) (3.10.15)\n",
            "Requirement already satisfied: requests<3,>=2 in c:\\users\\anderson g lignelli\\appdata\\local\\programs\\python\\python313\\lib\\site-packages (from langsmith<0.4,>=0.1.125->langchain-core<0.4,>=0.3->langchain-groq==0.2.0) (2.32.3)\n",
            "Requirement already satisfied: requests-toolbelt<2.0.0,>=1.0.0 in c:\\users\\anderson g lignelli\\appdata\\local\\programs\\python\\python313\\lib\\site-packages (from langsmith<0.4,>=0.1.125->langchain-core<0.4,>=0.3->langchain-groq==0.2.0) (1.0.0)\n",
            "Requirement already satisfied: zstandard<0.24.0,>=0.23.0 in c:\\users\\anderson g lignelli\\appdata\\local\\programs\\python\\python313\\lib\\site-packages (from langsmith<0.4,>=0.1.125->langchain-core<0.4,>=0.3->langchain-groq==0.2.0) (0.23.0)\n",
            "Requirement already satisfied: annotated-types>=0.6.0 in c:\\users\\anderson g lignelli\\appdata\\local\\programs\\python\\python313\\lib\\site-packages (from pydantic<3,>=1.9.0->groq<1,>=0.4.1->langchain-groq==0.2.0) (0.7.0)\n",
            "Requirement already satisfied: pydantic-core==2.27.2 in c:\\users\\anderson g lignelli\\appdata\\local\\programs\\python\\python313\\lib\\site-packages (from pydantic<3,>=1.9.0->groq<1,>=0.4.1->langchain-groq==0.2.0) (2.27.2)\n",
            "Requirement already satisfied: charset-normalizer<4,>=2 in c:\\users\\anderson g lignelli\\appdata\\local\\programs\\python\\python313\\lib\\site-packages (from requests<3,>=2->langsmith<0.4,>=0.1.125->langchain-core<0.4,>=0.3->langchain-groq==0.2.0) (3.4.1)\n",
            "Requirement already satisfied: urllib3<3,>=1.21.1 in c:\\users\\anderson g lignelli\\appdata\\local\\programs\\python\\python313\\lib\\site-packages (from requests<3,>=2->langsmith<0.4,>=0.1.125->langchain-core<0.4,>=0.3->langchain-groq==0.2.0) (2.3.0)\n",
            "Collecting langchain-community==0.3.0\n",
            "  Using cached langchain_community-0.3.0-py3-none-any.whl.metadata (2.8 kB)\n",
            "Requirement already satisfied: PyYAML>=5.3 in c:\\users\\anderson g lignelli\\appdata\\local\\programs\\python\\python313\\lib\\site-packages (from langchain-community==0.3.0) (6.0.2)\n",
            "Requirement already satisfied: SQLAlchemy<3,>=1.4 in c:\\users\\anderson g lignelli\\appdata\\local\\programs\\python\\python313\\lib\\site-packages (from langchain-community==0.3.0) (2.0.38)\n",
            "Requirement already satisfied: aiohttp<4.0.0,>=3.8.3 in c:\\users\\anderson g lignelli\\appdata\\local\\programs\\python\\python313\\lib\\site-packages (from langchain-community==0.3.0) (3.11.12)\n",
            "Requirement already satisfied: dataclasses-json<0.7,>=0.5.7 in c:\\users\\anderson g lignelli\\appdata\\local\\programs\\python\\python313\\lib\\site-packages (from langchain-community==0.3.0) (0.6.7)\n",
            "Requirement already satisfied: langchain<0.4.0,>=0.3.0 in c:\\users\\anderson g lignelli\\appdata\\local\\programs\\python\\python313\\lib\\site-packages (from langchain-community==0.3.0) (0.3.18)\n",
            "Requirement already satisfied: langchain-core<0.4.0,>=0.3.0 in c:\\users\\anderson g lignelli\\appdata\\local\\programs\\python\\python313\\lib\\site-packages (from langchain-community==0.3.0) (0.3.34)\n",
            "Collecting langsmith<0.2.0,>=0.1.112 (from langchain-community==0.3.0)\n",
            "  Using cached langsmith-0.1.147-py3-none-any.whl.metadata (14 kB)\n",
            "Collecting numpy<2.0.0,>=1.26.0 (from langchain-community==0.3.0)\n",
            "  Using cached numpy-1.26.4.tar.gz (15.8 MB)\n"
          ]
        },
        {
          "name": "stderr",
          "output_type": "stream",
          "text": [
            "ERROR: Could not install packages due to an OSError: [Errno 2] No such file or directory: 'C:\\\\Users\\\\Anderson G Lignelli\\\\AppData\\\\Local\\\\Temp\\\\pip-install-3lu39m5f\\\\numpy_0d3b9514427540208f234a57930a4614\\\\vendored-meson\\\\meson\\\\test cases\\\\linuxlike\\\\13 cmake dependency\\\\cmake_pref_env\\\\lib\\\\cmake\\\\cmMesonVersionedTestDep\\\\cmMesonVersionedTestDepConfigVersion.cmake'\n",
            "HINT: This error might have occurred since this system does not have Windows Long Path support enabled. You can find information on how to enable this at https://pip.pypa.io/warnings/enable-long-paths\n",
            "\n"
          ]
        },
        {
          "name": "stdout",
          "output_type": "stream",
          "text": [
            "Collecting youtube_transcript_api==0.6.2\n",
            "  Downloading youtube_transcript_api-0.6.2-py3-none-any.whl.metadata (15 kB)\n",
            "Requirement already satisfied: requests in c:\\users\\anderson g lignelli\\appdata\\local\\programs\\python\\python313\\lib\\site-packages (from youtube_transcript_api==0.6.2) (2.32.3)\n",
            "Requirement already satisfied: charset-normalizer<4,>=2 in c:\\users\\anderson g lignelli\\appdata\\local\\programs\\python\\python313\\lib\\site-packages (from requests->youtube_transcript_api==0.6.2) (3.4.1)\n",
            "Requirement already satisfied: idna<4,>=2.5 in c:\\users\\anderson g lignelli\\appdata\\local\\programs\\python\\python313\\lib\\site-packages (from requests->youtube_transcript_api==0.6.2) (3.10)\n",
            "Requirement already satisfied: urllib3<3,>=1.21.1 in c:\\users\\anderson g lignelli\\appdata\\local\\programs\\python\\python313\\lib\\site-packages (from requests->youtube_transcript_api==0.6.2) (2.3.0)\n",
            "Requirement already satisfied: certifi>=2017.4.17 in c:\\users\\anderson g lignelli\\appdata\\local\\programs\\python\\python313\\lib\\site-packages (from requests->youtube_transcript_api==0.6.2) (2024.12.14)\n",
            "Downloading youtube_transcript_api-0.6.2-py3-none-any.whl (24 kB)\n",
            "Installing collected packages: youtube_transcript_api\n",
            "  Attempting uninstall: youtube_transcript_api\n",
            "    Found existing installation: youtube-transcript-api 0.6.3\n",
            "    Uninstalling youtube-transcript-api-0.6.3:\n",
            "      Successfully uninstalled youtube-transcript-api-0.6.3\n",
            "Successfully installed youtube_transcript_api-0.6.2\n",
            "Collecting pypdf==5.0.0\n",
            "  Downloading pypdf-5.0.0-py3-none-any.whl.metadata (7.4 kB)\n",
            "Downloading pypdf-5.0.0-py3-none-any.whl (292 kB)\n",
            "Installing collected packages: pypdf\n",
            "  Attempting uninstall: pypdf\n",
            "    Found existing installation: pypdf 5.3.0\n",
            "    Uninstalling pypdf-5.3.0:\n",
            "      Successfully uninstalled pypdf-5.3.0\n",
            "Successfully installed pypdf-5.0.0\n"
          ]
        }
      ],
      "source": [
        "!pip install langchain==0.3.0\n",
        "!pip install langchain-groq==0.2.0\n",
        "!pip install langchain-community==0.3.0\n",
        "!pip install youtube_transcript_api==0.6.2\n",
        "!pip install pypdf==5.0.0"
      ]
    },
    {
      "cell_type": "code",
      "execution_count": 8,
      "metadata": {
        "id": "6OoOJIdZB05U"
      },
      "outputs": [],
      "source": [
        "import os                                      # Fazendo a primeira chamada ao modelo\n",
        "os.environ['GROQ_API_KEY'] = api_key\n"
      ]
    },
    {
      "cell_type": "code",
      "execution_count": 9,
      "metadata": {
        "id": "pSDiZMu-CR3j"
      },
      "outputs": [],
      "source": [
        "from langchain_groq import ChatGroq\n",
        "chat = ChatGroq(model='llama-3.3-70b-versatile')"
      ]
    },
    {
      "cell_type": "code",
      "execution_count": 10,
      "metadata": {
        "id": "jyRvfIElZr4w"
      },
      "outputs": [],
      "source": [
        "resposta = chat.invoke('Olá modelo! Quem é você?')"
      ]
    },
    {
      "cell_type": "code",
      "execution_count": 11,
      "metadata": {
        "colab": {
          "base_uri": "https://localhost:8080/"
        },
        "id": "DvPchkwMfKbw",
        "outputId": "63f312ee-2263-4c0b-f019-bbe35bc73dd6"
      },
      "outputs": [
        {
          "name": "stdout",
          "output_type": "stream",
          "text": [
            "content='Olá! Eu sou um modelo de linguagem treinado por máquina, desenvolvido para entender e responder a perguntas e solicitações de forma clara e útil. Não tenho uma personalidade como um ser humano, mas estou aqui para ajudar com informações e tarefas variadas.\\n\\nPosso ser usado para:\\n\\n* Responder perguntas sobre vários assuntos, como história, ciência, tecnologia, arte, literatura e muito mais;\\n* Traduzir textos de um idioma para outro;\\n* Sugerir ideias e soluções para problemas;\\n* Gerar textos e resumos;\\n* Manter conversas e diálogos;\\n\\nEstou constantemente aprendendo e melhorando, então sinta-se à vontade para me fazer perguntas ou solicitações. Estou aqui para ajudar!\\n\\nComo posso ajudar você hoje?' additional_kwargs={} response_metadata={'token_usage': {'completion_tokens': 190, 'prompt_tokens': 44, 'total_tokens': 234, 'completion_time': 0.690909091, 'prompt_time': 0.00466358, 'queue_time': 0.233480475, 'total_time': 0.695572671}, 'model_name': 'llama-3.3-70b-versatile', 'system_fingerprint': 'fp_e669a124b2', 'finish_reason': 'stop', 'logprobs': None} id='run-54fbce08-c76e-40ff-9f0e-dfe711cf9cc7-0' usage_metadata={'input_tokens': 44, 'output_tokens': 190, 'total_tokens': 234}\n"
          ]
        }
      ],
      "source": [
        "print(resposta)"
      ]
    },
    {
      "cell_type": "code",
      "execution_count": 12,
      "metadata": {
        "colab": {
          "base_uri": "https://localhost:8080/"
        },
        "id": "v91EyINJfao-",
        "outputId": "ce4a2a85-5850-48f3-a0e6-64ac46586599"
      },
      "outputs": [
        {
          "name": "stdout",
          "output_type": "stream",
          "text": [
            "Olá! Eu sou um modelo de linguagem treinado por máquina, desenvolvido para entender e responder a perguntas e solicitações de forma clara e útil. Não tenho uma personalidade como um ser humano, mas estou aqui para ajudar com informações e tarefas variadas.\n",
            "\n",
            "Posso ser usado para:\n",
            "\n",
            "* Responder perguntas sobre vários assuntos, como história, ciência, tecnologia, arte, literatura e muito mais;\n",
            "* Traduzir textos de um idioma para outro;\n",
            "* Sugerir ideias e soluções para problemas;\n",
            "* Gerar textos e resumos;\n",
            "* Manter conversas e diálogos;\n",
            "\n",
            "Estou constantemente aprendendo e melhorando, então sinta-se à vontade para me fazer perguntas ou solicitações. Estou aqui para ajudar!\n",
            "\n",
            "Como posso ajudar você hoje?\n"
          ]
        }
      ],
      "source": [
        "print(resposta.content)"
      ]
    },
    {
      "cell_type": "code",
      "execution_count": 2,
      "metadata": {
        "colab": {
          "base_uri": "https://localhost:8080/"
        },
        "id": "EqMh4yyxfs9e",
        "outputId": "26a03d82-73a9-43b8-bd57-5d9d0563e051"
      },
      "outputs": [
        {
          "name": "stdout",
          "output_type": "stream",
          "text": [
            "input_variables=['expressao', 'lingua'] input_types={} partial_variables={} messages=[HumanMessagePromptTemplate(prompt=PromptTemplate(input_variables=['expressao', 'lingua'], input_types={}, partial_variables={}, template='Traduza {expressao} para a lingua {lingua}'), additional_kwargs={})]\n"
          ]
        }
      ],
      "source": [
        "from langchain.prompts import ChatPromptTemplate\n",
        "\n",
        "template = ChatPromptTemplate.from_messages(\n",
        "    [('user', 'Traduza {expressao} para a lingua {lingua}')]\n",
        ")\n",
        "print(template)"
      ]
    },
    {
      "cell_type": "code",
      "execution_count": 14,
      "metadata": {
        "colab": {
          "base_uri": "https://localhost:8080/"
        },
        "id": "UbKRKXjximcG",
        "outputId": "625e73fa-b620-4cca-c04a-a7522f7443b8"
      },
      "outputs": [
        {
          "data": {
            "text/plain": [
              "ChatPromptValue(messages=[HumanMessage(content='Traduza Beleza para a lingua Inglesa', additional_kwargs={}, response_metadata={})])"
            ]
          },
          "execution_count": 14,
          "metadata": {},
          "output_type": "execute_result"
        }
      ],
      "source": [
        "template.invoke({'expressao': 'Beleza', 'lingua': 'Inglesa'})"
      ]
    },
    {
      "cell_type": "code",
      "execution_count": 3,
      "metadata": {
        "id": "rQDoAhtxjkKr"
      },
      "outputs": [],
      "source": [
        "import os\n",
        "from langchain_groq import ChatGroq\n",
        "api_key = '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'\n",
        "os.environ['GROQ_API_KEY'] = api_key\n",
        "chat = ChatGroq(model='llama-3.3-70b-versatile')"
      ]
    },
    {
      "cell_type": "code",
      "execution_count": 5,
      "metadata": {
        "id": "2OC7np8AkZWQ"
      },
      "outputs": [],
      "source": [
        "from langchain.prompts import ChatPromptTemplate\n",
        "\n",
        "template = ChatPromptTemplate.from_messages(\n",
        "    [('user', 'Traduza {expressao} para a lingua {lingua}')]\n",
        ")"
      ]
    },
    {
      "cell_type": "code",
      "execution_count": 17,
      "metadata": {
        "id": "GkHaXIwJkjHA"
      },
      "outputs": [],
      "source": [
        "chain = template | chat\n",
        "resposta = chain.invoke({'expressao': 'Beleza', 'lingua': 'Inglesa'})"
      ]
    },
    {
      "cell_type": "code",
      "execution_count": 4,
      "metadata": {
        "colab": {
          "base_uri": "https://localhost:8080/"
        },
        "id": "13mx4dsllI_W",
        "outputId": "2601238f-68bc-4f78-ef46-636a4707fc9d"
      },
      "outputs": [
        {
          "name": "stdout",
          "output_type": "stream",
          "text": [
            "Beleza! É como um sorriso em português, mas em inglês é... (dramático suspense)... Beauty! Mas não se preocupe, não é tão feio quanto eu quando acordo de manhã! (risos) Beauty, é a tradução certa, mas se você quiser uma tradução mais \"bonita\", posso dizer que é \"Lovely\" ou \"Gorgeous\", mas isso é apenas um \"beleza\" de tradução! (piada)\n"
          ]
        }
      ],
      "source": [
        "from langchain.prompts import ChatPromptTemplate\n",
        "template = ChatPromptTemplate.from_messages(\n",
        "    [('system', 'Você é um assistente que sempre responde com piadas'),\n",
        "     ('user', 'Traduza {expressao} para a lingua {lingua}')]\n",
        ")\n",
        "chain = template | chat\n",
        "resposta = chain.invoke({'expressao': 'Beleza', 'lingua': 'Inglesa'})\n",
        "print(resposta.content)\n"
      ]
    },
    {
      "cell_type": "code",
      "execution_count": 3,
      "metadata": {
        "colab": {
          "base_uri": "https://localhost:8080/"
        },
        "id": "-fDvCUuaskVa",
        "outputId": "3a4845a5-fffa-4f2f-f8d4-31c4fee174b1"
      },
      "outputs": [],
      "source": [
        "from langchain_community.document_loaders import WebBaseLoader\n",
        "from langchain_community.document_loaders import PyPDFLoader\n",
        "from langchain_community.document_loaders import YoutubeLoader\n",
        "\n",
        "\n",
        "\n",
        "\n",
        "\n",
        "def carrega_site():\n",
        "    url_site = input('Digite a url do site: ')\n",
        "    loader = WebBaseLoader(url_site)\n",
        "    lista_documentos = loader.load()\n",
        "    documento = ''\n",
        "    for documento in lista_documentos:\n",
        "        documento = documento.page_content\n",
        "    return documento\n",
        " \n",
        "\n",
        "def carrega_pdf():\n",
        "    caminho = \"/content/drive/MyDrive/Certificados/Certificado Analise orientada a objetos.pdf\"\n",
        "    loader = PyPDFLoader(caminho)\n",
        "    lista_documentos = loader.load()\n",
        "    documento = ''\n",
        "    for documento in lista_documentos:\n",
        "        documento = documento.page_content\n",
        "    return documento\n",
        "\n",
        "\n",
        "def carrega_youtube():\n",
        "    url_youtube = input('Digite a url do video: ')\n",
        "    loader = YoutubeLoader.from_youtube_url(url_youtube, language=['pt'])\n",
        "    lista_documentos = loader.load()\n",
        "    documento = ''\n",
        "    for documento in lista_documentos:\n",
        "        documento = documento.page_content\n",
        "    return documento\n",
        "\n",
        "\n"
      ]
    },
    {
      "cell_type": "code",
      "execution_count": null,
      "metadata": {},
      "outputs": [
        {
          "name": "stdout",
          "output_type": "stream",
          "text": [
            "Bem-vindo ao Chatlig\n"
          ]
        }
      ],
      "source": [
        "\n",
        "texto_selecao = \"\"\"\n",
        "Selecione uma opção:\n",
        "1. Carregar site\n",
        "2. Carregar PDF\n",
        "3. Carregar YouTube\n",
        "\n",
        "\n",
        "\"\"\"\n",
        "\n",
        "def resposta_bot(mensagens, documento):\n",
        "    template = ChatPromptTemplate.from_messages(mensagens)\n",
        "    chain = template | chat\n",
        "    resposta = chain.invoke({'expressao': documento, 'lingua': 'Portugues'})\n",
        "    return resposta.content\n",
        "\n",
        "def carrega_youtube():\n",
        "    url_youtube = input('Digite a url do video: ')\n",
        "    loader = YoutubeLoader.from_youtube_url(url_youtube, language=['pt'])\n",
        "    lista_documentos = loader.load()\n",
        "    documento = ''\n",
        "    for documento in lista_documentos:\n",
        "        documento = documento.page_content\n",
        "    return documento\n",
        "\n",
        "print('Bem-vindo ao Chatlig')\n",
        "\n",
        "while True:\n",
        "    selecao = input(texto_selecao)\n",
        "     \n",
        "    if selecao == 1:\n",
        "        documento = carrega_site()\n",
        "        break\n",
        "\n",
        "    if selecao == 2:\n",
        "        documento = carrega_pdf()\n",
        "        break\n",
        "\n",
        "    if selecao == 3:\n",
        "        documento = carrega_youtube()\n",
        "        break\n",
        "    \n",
        "print('Digite um valor entre 1 e 3')\n",
        "\n",
        "\n",
        "mensagens = []\n",
        "\n",
        "while True:\n",
        "    pergunta = input('Você: ')\n",
        "    if pergunta.lower() == 'sair':\n",
        "        break\n",
        "    mensagens.append(('user', pergunta))\n",
        "    resposta = resposta_bot(mensagens, documento)\n",
        "    mensagens.append(('assistant', resposta))\n",
        "    print(f'Chatlig: {resposta}')\n",
        "\n",
        "print('Muito obrigado por usar o assistente Chatlig')\n"
      ]
    }
  ],
  "metadata": {
    "colab": {
      "authorship_tag": "ABX9TyPHPGDpDGvT/uJOp+ODenr/",
      "include_colab_link": true,
      "provenance": []
    },
    "kernelspec": {
      "display_name": "Python 3",
      "name": "python3"
    },
    "language_info": {
      "codemirror_mode": {
        "name": "ipython",
        "version": 3
      },
      "file_extension": ".py",
      "mimetype": "text/x-python",
      "name": "python",
      "nbconvert_exporter": "python",
      "pygments_lexer": "ipython3",
      "version": "3.13.1"
    }
  },
  "nbformat": 4,
  "nbformat_minor": 0
}
