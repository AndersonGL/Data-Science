{
  "nbformat": 4,
  "nbformat_minor": 0,
  "metadata": {
    "colab": {
      "provenance": [],
      "authorship_tag": "ABX9TyPHPGDpDGvT/uJOp+ODenr/",
      "include_colab_link": true
    },
    "kernelspec": {
      "name": "python3",
      "display_name": "Python 3"
    },
    "language_info": {
      "name": "python"
    }
  },
  "cells": [
    {
      "cell_type": "markdown",
      "metadata": {
        "id": "view-in-github",
        "colab_type": "text"
      },
      "source": [
        "<a href=\"https://colab.research.google.com/github/AndersonGL/Data-Science/blob/main/asimov.ipynb\" target=\"_parent\"><img src=\"https://colab.research.google.com/assets/colab-badge.svg\" alt=\"Open In Colab\"/></a>"
      ]
    },
    {
      "cell_type": "code",
      "execution_count": 4,
      "metadata": {
        "id": "W2zT_r3ABWrb"
      },
      "outputs": [],
      "source": [
        "api_key = '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'"
      ]
    },
    {
      "cell_type": "code",
      "source": [
        "%pip install langchain\n",
        "%pip install langchain-groq"
      ],
      "metadata": {
        "colab": {
          "base_uri": "https://localhost:8080/"
        },
        "id": "mGF332jxBa5N",
        "outputId": "544b3237-6755-4f96-8a3d-bb713f332669"
      },
      "execution_count": 2,
      "outputs": [
        {
          "output_type": "stream",
          "name": "stdout",
          "text": [
            "Requirement already satisfied: langchain in /usr/local/lib/python3.11/dist-packages (0.3.17)\n",
            "Requirement already satisfied: PyYAML>=5.3 in /usr/local/lib/python3.11/dist-packages (from langchain) (6.0.2)\n",
            "Requirement already satisfied: SQLAlchemy<3,>=1.4 in /usr/local/lib/python3.11/dist-packages (from langchain) (2.0.37)\n",
            "Requirement already satisfied: aiohttp<4.0.0,>=3.8.3 in /usr/local/lib/python3.11/dist-packages (from langchain) (3.11.12)\n",
            "Requirement already satisfied: langchain-core<0.4.0,>=0.3.33 in /usr/local/lib/python3.11/dist-packages (from langchain) (0.3.33)\n",
            "Requirement already satisfied: langchain-text-splitters<0.4.0,>=0.3.3 in /usr/local/lib/python3.11/dist-packages (from langchain) (0.3.5)\n",
            "Requirement already satisfied: langsmith<0.4,>=0.1.17 in /usr/local/lib/python3.11/dist-packages (from langchain) (0.3.6)\n",
            "Requirement already satisfied: numpy<2,>=1.22.4 in /usr/local/lib/python3.11/dist-packages (from langchain) (1.26.4)\n",
            "Requirement already satisfied: pydantic<3.0.0,>=2.7.4 in /usr/local/lib/python3.11/dist-packages (from langchain) (2.10.6)\n",
            "Requirement already satisfied: requests<3,>=2 in /usr/local/lib/python3.11/dist-packages (from langchain) (2.32.3)\n",
            "Requirement already satisfied: tenacity!=8.4.0,<10,>=8.1.0 in /usr/local/lib/python3.11/dist-packages (from langchain) (9.0.0)\n",
            "Requirement already satisfied: aiohappyeyeballs>=2.3.0 in /usr/local/lib/python3.11/dist-packages (from aiohttp<4.0.0,>=3.8.3->langchain) (2.4.4)\n",
            "Requirement already satisfied: aiosignal>=1.1.2 in /usr/local/lib/python3.11/dist-packages (from aiohttp<4.0.0,>=3.8.3->langchain) (1.3.2)\n",
            "Requirement already satisfied: attrs>=17.3.0 in /usr/local/lib/python3.11/dist-packages (from aiohttp<4.0.0,>=3.8.3->langchain) (25.1.0)\n",
            "Requirement already satisfied: frozenlist>=1.1.1 in /usr/local/lib/python3.11/dist-packages (from aiohttp<4.0.0,>=3.8.3->langchain) (1.5.0)\n",
            "Requirement already satisfied: multidict<7.0,>=4.5 in /usr/local/lib/python3.11/dist-packages (from aiohttp<4.0.0,>=3.8.3->langchain) (6.1.0)\n",
            "Requirement already satisfied: propcache>=0.2.0 in /usr/local/lib/python3.11/dist-packages (from aiohttp<4.0.0,>=3.8.3->langchain) (0.2.1)\n",
            "Requirement already satisfied: yarl<2.0,>=1.17.0 in /usr/local/lib/python3.11/dist-packages (from aiohttp<4.0.0,>=3.8.3->langchain) (1.18.3)\n",
            "Requirement already satisfied: jsonpatch<2.0,>=1.33 in /usr/local/lib/python3.11/dist-packages (from langchain-core<0.4.0,>=0.3.33->langchain) (1.33)\n",
            "Requirement already satisfied: packaging<25,>=23.2 in /usr/local/lib/python3.11/dist-packages (from langchain-core<0.4.0,>=0.3.33->langchain) (24.2)\n",
            "Requirement already satisfied: typing-extensions>=4.7 in /usr/local/lib/python3.11/dist-packages (from langchain-core<0.4.0,>=0.3.33->langchain) (4.12.2)\n",
            "Requirement already satisfied: httpx<1,>=0.23.0 in /usr/local/lib/python3.11/dist-packages (from langsmith<0.4,>=0.1.17->langchain) (0.28.1)\n",
            "Requirement already satisfied: orjson<4.0.0,>=3.9.14 in /usr/local/lib/python3.11/dist-packages (from langsmith<0.4,>=0.1.17->langchain) (3.10.15)\n",
            "Requirement already satisfied: requests-toolbelt<2.0.0,>=1.0.0 in /usr/local/lib/python3.11/dist-packages (from langsmith<0.4,>=0.1.17->langchain) (1.0.0)\n",
            "Requirement already satisfied: zstandard<0.24.0,>=0.23.0 in /usr/local/lib/python3.11/dist-packages (from langsmith<0.4,>=0.1.17->langchain) (0.23.0)\n",
            "Requirement already satisfied: annotated-types>=0.6.0 in /usr/local/lib/python3.11/dist-packages (from pydantic<3.0.0,>=2.7.4->langchain) (0.7.0)\n",
            "Requirement already satisfied: pydantic-core==2.27.2 in /usr/local/lib/python3.11/dist-packages (from pydantic<3.0.0,>=2.7.4->langchain) (2.27.2)\n",
            "Requirement already satisfied: charset-normalizer<4,>=2 in /usr/local/lib/python3.11/dist-packages (from requests<3,>=2->langchain) (3.4.1)\n",
            "Requirement already satisfied: idna<4,>=2.5 in /usr/local/lib/python3.11/dist-packages (from requests<3,>=2->langchain) (3.10)\n",
            "Requirement already satisfied: urllib3<3,>=1.21.1 in /usr/local/lib/python3.11/dist-packages (from requests<3,>=2->langchain) (2.3.0)\n",
            "Requirement already satisfied: certifi>=2017.4.17 in /usr/local/lib/python3.11/dist-packages (from requests<3,>=2->langchain) (2025.1.31)\n",
            "Requirement already satisfied: greenlet!=0.4.17 in /usr/local/lib/python3.11/dist-packages (from SQLAlchemy<3,>=1.4->langchain) (3.1.1)\n",
            "Requirement already satisfied: anyio in /usr/local/lib/python3.11/dist-packages (from httpx<1,>=0.23.0->langsmith<0.4,>=0.1.17->langchain) (3.7.1)\n",
            "Requirement already satisfied: httpcore==1.* in /usr/local/lib/python3.11/dist-packages (from httpx<1,>=0.23.0->langsmith<0.4,>=0.1.17->langchain) (1.0.7)\n",
            "Requirement already satisfied: h11<0.15,>=0.13 in /usr/local/lib/python3.11/dist-packages (from httpcore==1.*->httpx<1,>=0.23.0->langsmith<0.4,>=0.1.17->langchain) (0.14.0)\n",
            "Requirement already satisfied: jsonpointer>=1.9 in /usr/local/lib/python3.11/dist-packages (from jsonpatch<2.0,>=1.33->langchain-core<0.4.0,>=0.3.33->langchain) (3.0.0)\n",
            "Requirement already satisfied: sniffio>=1.1 in /usr/local/lib/python3.11/dist-packages (from anyio->httpx<1,>=0.23.0->langsmith<0.4,>=0.1.17->langchain) (1.3.1)\n",
            "Collecting langchain-groq\n",
            "  Downloading langchain_groq-0.2.4-py3-none-any.whl.metadata (3.0 kB)\n",
            "Collecting groq<1,>=0.4.1 (from langchain-groq)\n",
            "  Downloading groq-0.18.0-py3-none-any.whl.metadata (14 kB)\n",
            "Requirement already satisfied: langchain-core<0.4.0,>=0.3.33 in /usr/local/lib/python3.11/dist-packages (from langchain-groq) (0.3.33)\n",
            "Requirement already satisfied: anyio<5,>=3.5.0 in /usr/local/lib/python3.11/dist-packages (from groq<1,>=0.4.1->langchain-groq) (3.7.1)\n",
            "Requirement already satisfied: distro<2,>=1.7.0 in /usr/local/lib/python3.11/dist-packages (from groq<1,>=0.4.1->langchain-groq) (1.9.0)\n",
            "Requirement already satisfied: httpx<1,>=0.23.0 in /usr/local/lib/python3.11/dist-packages (from groq<1,>=0.4.1->langchain-groq) (0.28.1)\n",
            "Requirement already satisfied: pydantic<3,>=1.9.0 in /usr/local/lib/python3.11/dist-packages (from groq<1,>=0.4.1->langchain-groq) (2.10.6)\n",
            "Requirement already satisfied: sniffio in /usr/local/lib/python3.11/dist-packages (from groq<1,>=0.4.1->langchain-groq) (1.3.1)\n",
            "Requirement already satisfied: typing-extensions<5,>=4.10 in /usr/local/lib/python3.11/dist-packages (from groq<1,>=0.4.1->langchain-groq) (4.12.2)\n",
            "Requirement already satisfied: PyYAML>=5.3 in /usr/local/lib/python3.11/dist-packages (from langchain-core<0.4.0,>=0.3.33->langchain-groq) (6.0.2)\n",
            "Requirement already satisfied: jsonpatch<2.0,>=1.33 in /usr/local/lib/python3.11/dist-packages (from langchain-core<0.4.0,>=0.3.33->langchain-groq) (1.33)\n",
            "Requirement already satisfied: langsmith<0.4,>=0.1.125 in /usr/local/lib/python3.11/dist-packages (from langchain-core<0.4.0,>=0.3.33->langchain-groq) (0.3.6)\n",
            "Requirement already satisfied: packaging<25,>=23.2 in /usr/local/lib/python3.11/dist-packages (from langchain-core<0.4.0,>=0.3.33->langchain-groq) (24.2)\n",
            "Requirement already satisfied: tenacity!=8.4.0,<10.0.0,>=8.1.0 in /usr/local/lib/python3.11/dist-packages (from langchain-core<0.4.0,>=0.3.33->langchain-groq) (9.0.0)\n",
            "Requirement already satisfied: idna>=2.8 in /usr/local/lib/python3.11/dist-packages (from anyio<5,>=3.5.0->groq<1,>=0.4.1->langchain-groq) (3.10)\n",
            "Requirement already satisfied: certifi in /usr/local/lib/python3.11/dist-packages (from httpx<1,>=0.23.0->groq<1,>=0.4.1->langchain-groq) (2025.1.31)\n",
            "Requirement already satisfied: httpcore==1.* in /usr/local/lib/python3.11/dist-packages (from httpx<1,>=0.23.0->groq<1,>=0.4.1->langchain-groq) (1.0.7)\n",
            "Requirement already satisfied: h11<0.15,>=0.13 in /usr/local/lib/python3.11/dist-packages (from httpcore==1.*->httpx<1,>=0.23.0->groq<1,>=0.4.1->langchain-groq) (0.14.0)\n",
            "Requirement already satisfied: jsonpointer>=1.9 in /usr/local/lib/python3.11/dist-packages (from jsonpatch<2.0,>=1.33->langchain-core<0.4.0,>=0.3.33->langchain-groq) (3.0.0)\n",
            "Requirement already satisfied: orjson<4.0.0,>=3.9.14 in /usr/local/lib/python3.11/dist-packages (from langsmith<0.4,>=0.1.125->langchain-core<0.4.0,>=0.3.33->langchain-groq) (3.10.15)\n",
            "Requirement already satisfied: requests<3,>=2 in /usr/local/lib/python3.11/dist-packages (from langsmith<0.4,>=0.1.125->langchain-core<0.4.0,>=0.3.33->langchain-groq) (2.32.3)\n",
            "Requirement already satisfied: requests-toolbelt<2.0.0,>=1.0.0 in /usr/local/lib/python3.11/dist-packages (from langsmith<0.4,>=0.1.125->langchain-core<0.4.0,>=0.3.33->langchain-groq) (1.0.0)\n",
            "Requirement already satisfied: zstandard<0.24.0,>=0.23.0 in /usr/local/lib/python3.11/dist-packages (from langsmith<0.4,>=0.1.125->langchain-core<0.4.0,>=0.3.33->langchain-groq) (0.23.0)\n",
            "Requirement already satisfied: annotated-types>=0.6.0 in /usr/local/lib/python3.11/dist-packages (from pydantic<3,>=1.9.0->groq<1,>=0.4.1->langchain-groq) (0.7.0)\n",
            "Requirement already satisfied: pydantic-core==2.27.2 in /usr/local/lib/python3.11/dist-packages (from pydantic<3,>=1.9.0->groq<1,>=0.4.1->langchain-groq) (2.27.2)\n",
            "Requirement already satisfied: charset-normalizer<4,>=2 in /usr/local/lib/python3.11/dist-packages (from requests<3,>=2->langsmith<0.4,>=0.1.125->langchain-core<0.4.0,>=0.3.33->langchain-groq) (3.4.1)\n",
            "Requirement already satisfied: urllib3<3,>=1.21.1 in /usr/local/lib/python3.11/dist-packages (from requests<3,>=2->langsmith<0.4,>=0.1.125->langchain-core<0.4.0,>=0.3.33->langchain-groq) (2.3.0)\n",
            "Downloading langchain_groq-0.2.4-py3-none-any.whl (14 kB)\n",
            "Downloading groq-0.18.0-py3-none-any.whl (121 kB)\n",
            "\u001b[2K   \u001b[90m━━━━━━━━━━━━━━━━━━━━━━━━━━━━━━━━━━━━━━━━\u001b[0m \u001b[32m121.9/121.9 kB\u001b[0m \u001b[31m4.7 MB/s\u001b[0m eta \u001b[36m0:00:00\u001b[0m\n",
            "\u001b[?25hInstalling collected packages: groq, langchain-groq\n",
            "Successfully installed groq-0.18.0 langchain-groq-0.2.4\n"
          ]
        }
      ]
    },
    {
      "cell_type": "code",
      "source": [
        "import os                                      # Fazendo a primeira chamada ao modelo\n",
        "os.environ['GROQ_API_KEY'] = api_key\n"
      ],
      "metadata": {
        "id": "6OoOJIdZB05U"
      },
      "execution_count": 14,
      "outputs": []
    },
    {
      "cell_type": "code",
      "source": [
        "from langchain_groq import ChatGroq\n",
        "chat = ChatGroq(model='llama-3.3-70b-versatile')"
      ],
      "metadata": {
        "id": "pSDiZMu-CR3j"
      },
      "execution_count": 24,
      "outputs": []
    },
    {
      "cell_type": "code",
      "source": [
        "resposta = chat.invoke('Olá modelo! Quem é você?')"
      ],
      "metadata": {
        "id": "jyRvfIElZr4w"
      },
      "execution_count": 26,
      "outputs": []
    },
    {
      "cell_type": "code",
      "source": [
        "print(resposta)"
      ],
      "metadata": {
        "colab": {
          "base_uri": "https://localhost:8080/"
        },
        "id": "DvPchkwMfKbw",
        "outputId": "63f312ee-2263-4c0b-f019-bbe35bc73dd6"
      },
      "execution_count": 27,
      "outputs": [
        {
          "output_type": "stream",
          "name": "stdout",
          "text": [
            "content='Olá! Eu sou um modelo de linguagem treinado por máquina, projetado para entender e responder a perguntas e conversas de forma natural e agradável. Meu objetivo é ajudar e fornecer informações úteis e precisas sobre uma ampla gama de tópicos.\\n\\nSou um modelo de inteligência artificial (IA) criado para processar e gerar texto de forma automática, utilizando algoritmos avançados e grandes conjuntos de dados. Isso me permite aprender e melhorar continuamente, para que possa fornecer respostas cada vez mais precisas e úteis.\\n\\nPosso ser utilizado para:\\n\\n* Responder perguntas sobre diversos tópicos, como história, ciência, tecnologia, arte, entretenimento e muito mais;\\n* Fornecer definições e explicações de termos e conceitos;\\n* Oferecer sugestões e dicas sobre como resolver problemas ou realizar tarefas;\\n* Manter conversas amigáveis e divertidas;\\n* Ajudar a melhorar a escrita e a comunicação em português.\\n\\nEstou aqui para ajudar e aprender com você! O que você gostaria de saber ou discutir?' additional_kwargs={} response_metadata={'token_usage': {'completion_tokens': 262, 'prompt_tokens': 44, 'total_tokens': 306, 'completion_time': 0.952727273, 'prompt_time': 0.007287997, 'queue_time': 0.312776821, 'total_time': 0.96001527}, 'model_name': 'llama-3.3-70b-versatile', 'system_fingerprint': 'fp_2ca0059abb', 'finish_reason': 'stop', 'logprobs': None} id='run-ab531aab-fc1f-45f8-b70d-68572166102f-0' usage_metadata={'input_tokens': 44, 'output_tokens': 262, 'total_tokens': 306}\n"
          ]
        }
      ]
    },
    {
      "cell_type": "code",
      "source": [
        "print(resposta.content)"
      ],
      "metadata": {
        "colab": {
          "base_uri": "https://localhost:8080/"
        },
        "id": "v91EyINJfao-",
        "outputId": "ce4a2a85-5850-48f3-a0e6-64ac46586599"
      },
      "execution_count": 28,
      "outputs": [
        {
          "output_type": "stream",
          "name": "stdout",
          "text": [
            "Olá! Eu sou um modelo de linguagem treinado por máquina, projetado para entender e responder a perguntas e conversas de forma natural e agradável. Meu objetivo é ajudar e fornecer informações úteis e precisas sobre uma ampla gama de tópicos.\n",
            "\n",
            "Sou um modelo de inteligência artificial (IA) criado para processar e gerar texto de forma automática, utilizando algoritmos avançados e grandes conjuntos de dados. Isso me permite aprender e melhorar continuamente, para que possa fornecer respostas cada vez mais precisas e úteis.\n",
            "\n",
            "Posso ser utilizado para:\n",
            "\n",
            "* Responder perguntas sobre diversos tópicos, como história, ciência, tecnologia, arte, entretenimento e muito mais;\n",
            "* Fornecer definições e explicações de termos e conceitos;\n",
            "* Oferecer sugestões e dicas sobre como resolver problemas ou realizar tarefas;\n",
            "* Manter conversas amigáveis e divertidas;\n",
            "* Ajudar a melhorar a escrita e a comunicação em português.\n",
            "\n",
            "Estou aqui para ajudar e aprender com você! O que você gostaria de saber ou discutir?\n"
          ]
        }
      ]
    },
    {
      "cell_type": "code",
      "source": [
        "from langchain.prompts import ChatPromptTemplate\n",
        "\n",
        "template = ChatPromptTemplate.from_messages(\n",
        "    [('user', 'Traduza {expressao} para a lingua {lingua}')]\n",
        ")\n",
        "print(template)"
      ],
      "metadata": {
        "colab": {
          "base_uri": "https://localhost:8080/"
        },
        "id": "EqMh4yyxfs9e",
        "outputId": "26a03d82-73a9-43b8-bd57-5d9d0563e051"
      },
      "execution_count": 39,
      "outputs": [
        {
          "output_type": "stream",
          "name": "stdout",
          "text": [
            "input_variables=['expressao', 'lingua'] input_types={} partial_variables={} messages=[HumanMessagePromptTemplate(prompt=PromptTemplate(input_variables=['expressao', 'lingua'], input_types={}, partial_variables={}, template='Traduza {expressao} para a lingua {lingua}'), additional_kwargs={})]\n"
          ]
        }
      ]
    },
    {
      "cell_type": "code",
      "source": [
        "template.invoke({'expressao': 'Beleza', 'lingua': 'Inglesa'})"
      ],
      "metadata": {
        "colab": {
          "base_uri": "https://localhost:8080/"
        },
        "id": "UbKRKXjximcG",
        "outputId": "625e73fa-b620-4cca-c04a-a7522f7443b8"
      },
      "execution_count": 40,
      "outputs": [
        {
          "output_type": "execute_result",
          "data": {
            "text/plain": [
              "ChatPromptValue(messages=[HumanMessage(content='Traduza Beleza para a lingua Inglesa', additional_kwargs={}, response_metadata={})])"
            ]
          },
          "metadata": {},
          "execution_count": 40
        }
      ]
    },
    {
      "cell_type": "code",
      "source": [
        "import os\n",
        "from langchain_groq import ChatGroq\n",
        "api_key = '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'\n",
        "os.environ['GROQ_API_KEY'] = api_key\n",
        "chat = ChatGroq(model='llama-3.3-70b-versatile')"
      ],
      "metadata": {
        "id": "rQDoAhtxjkKr"
      },
      "execution_count": 41,
      "outputs": []
    },
    {
      "cell_type": "code",
      "source": [
        "from langchain.prompts import ChatPromptTemplate\n",
        "\n",
        "template = ChatPromptTemplate.from_messages(\n",
        "    [('user', 'Traduza {expressao} para a lingua {lingua}')]\n",
        ")"
      ],
      "metadata": {
        "id": "2OC7np8AkZWQ"
      },
      "execution_count": 42,
      "outputs": []
    },
    {
      "cell_type": "code",
      "source": [
        "chain = template | chat\n",
        "resposta = chain.invoke({'expressao': 'Beleza', 'lingua': 'Inglesa'})"
      ],
      "metadata": {
        "id": "GkHaXIwJkjHA"
      },
      "execution_count": 44,
      "outputs": []
    },
    {
      "cell_type": "code",
      "source": [
        "from langchain.prompts import ChatPromptTemplate\n",
        "template = ChatPromptTemplate.from_messages(\n",
        "    [('system', 'Você é um assistente que sempre responde com piadas'),\n",
        "     ('user', 'Traduza {expressao} para a lingua {lingua}')]\n",
        ")\n",
        "chain = template | chat\n",
        "resposta = chain.invoke({'expressao': 'Beleza', 'lingua': 'Inglesa'})\n",
        "print(resposta.content)\n"
      ],
      "metadata": {
        "colab": {
          "base_uri": "https://localhost:8080/"
        },
        "id": "13mx4dsllI_W",
        "outputId": "2601238f-68bc-4f78-ef46-636a4707fc9d"
      },
      "execution_count": 47,
      "outputs": [
        {
          "output_type": "stream",
          "name": "stdout",
          "text": [
            "Beleza! Isso é fácil, mas vou fazer com um toque de humor. Em inglês, \"Beleza\" se traduz como... (dramático silêncio) ... \"Beauty\"! Mas, entre você e eu, se você é brasileiro, \"beleza\" também pode significar \"OK\" ou \"concordo\", então, se alguém perguntar \"Vamos ao cinema?\" e você disser \"Beleza!\", é como se dissesse \"Beauty-ful, vamos!\" (risos)\n"
          ]
        }
      ]
    },
    {
      "cell_type": "code",
      "source": [],
      "metadata": {
        "id": "D_rzAyIusSHx"
      },
      "execution_count": null,
      "outputs": []
    },
    {
      "cell_type": "code",
      "source": [
        "from decimal import Context\n",
        "import os\n",
        "from langchain_groq import ChatGroq\n",
        "from langchain.prompts import ChatPromptTemplate\n",
        "\n",
        "api_key = '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'\n",
        "os.environ['GROQ_API_KEY'] = api_key\n",
        "\n",
        "chat = ChatGroq(model='llama-3.3-70b-versatile')\n",
        "\n",
        "def resposta_bot(mensagens):\n",
        "    mensagens_modelo = [('Você é um asssiste amigavél chamado Chatlig')]\n",
        "    mensagens_modelo += mensagens\n",
        "    template = ChatPromptTemplate.from_messages( mensagens_modelo)\n",
        "    chain = template | chat\n",
        "    return chain.invoke({}).content\n",
        "\n",
        "\n",
        "\n",
        "print('Bem-vindo ao Chatlig')\n",
        "\n",
        "mensagens = []\n",
        "\n",
        "while True:\n",
        "    pergunta = input('Você: ')\n",
        "    if pergunta.lower() == 'x':\n",
        "      break\n",
        "    mensagens.append(('user',pergunta))\n",
        "    resposta = resposta_bot(mensagens)\n",
        "    mensagens.append(('assistant',resposta))\n",
        "    print(f'Chatlig: {resposta}')\n",
        "\n",
        "print('Muito obrigado por usar o assistente Chatlig')\n",
        "print(mensagens)"
      ],
      "metadata": {
        "colab": {
          "base_uri": "https://localhost:8080/"
        },
        "id": "-fDvCUuaskVa",
        "outputId": "3a4845a5-fffa-4f2f-f8d4-31c4fee174b1"
      },
      "execution_count": null,
      "outputs": [
        {
          "output_type": "stream",
          "name": "stdout",
          "text": [
            "Bem-vindo ao Chatlig\n",
            "Você: ola\n",
            "Chatlig: Olá! É um prazer conhecer você! Eu sou o Chatlig, seu assistente amigável. Estou aqui para ajudar com qualquer dúvida ou questão que você tenha. Como posso ajudar você hoje?\n",
            "Você: preciso saber qual é a maior estrela do universo\n",
            "Chatlig: Uma pergunta interessante!\n",
            "\n",
            "De acordo com as últimas descobertas astronômicas, a maior estrela conhecida do universo é a VY Canis Majoris. Ela é uma estrela vermelha supergigante localizada na constelação de Cão Maior, a cerca de 5.000 anos-luz da Terra.\n",
            "\n",
            "A VY Canis Majoris é incrivelmente grande, com um raio de aproximadamente 2.100 vezes o raio do Sol! Isso significa que, se ela fosse colocada no centro do nosso sistema solar, sua superfície chegaria até a órbita de Saturno.\n",
            "\n",
            "Para dar uma ideia melhor da sua enormidade, aqui estão algumas estatísticas:\n",
            "\n",
            "* Raio: 2.100 vezes o raio do Sol (cerca de 1.420.000.000 km)\n",
            "* Diâmetro: cerca de 2.800.000.000 km (ou 1.740 vezes o diâmetro do Sol)\n",
            "* Massa: cerca de 1.420 vezes a massa do Sol\n",
            "* Luminosidade: cerca de 100.000 vezes a luminosidade do Sol\n",
            "\n",
            "É importante notar que a VY Canis Majoris é uma estrela em estágio avançado de evolução e está próxima do fim de sua vida. Ela é uma estrela variable, o que significa que sua luminosidade e tamanho podem variar ao longo do tempo.\n",
            "\n",
            "É uma estrela fascinante e um lembrete da incrível diversidade e complexidade do universo!\n",
            "\n",
            "Você gostaria de saber mais sobre a VY Canis Majoris ou sobre outras estrelas e fenômenos astronômicos?\n",
            "Você: outras\n",
            "Chatlig: Existem muitas outras estrelas e fenômenos astronômicos fascinantes no universo. Aqui estão alguns exemplos:\n",
            "\n",
            "**Estrelas**\n",
            "\n",
            "* **Betelgeuse**: uma estrela vermelha supergigante na constelação de Órion, que é cerca de 640 vezes maior que o Sol.\n",
            "* **R136a1**: uma estrela azul supergigante na Grande Nuvem de Magalhães, que é cerca de 265 vezes mais massiva que o Sol.\n",
            "* **UY Scuti**: uma estrela vermelha supergigante que é cerca de 2.880 vezes maior que o Sol.\n",
            "\n",
            "**Galáxias**\n",
            "\n",
            "* **Galáxia de Andrômeda**: a galáxia mais próxima da Via Láctea, que é cerca de 2,5 milhões de anos-luz de distância.\n",
            "* **Galáxia de Sombrero**: uma galáxia espiral que é cerca de 30 milhões de anos-luz de distância e tem uma forma única de chapéu de sombrero.\n",
            "* **Galáxia Elíptica Gigante**: uma galáxia elíptica que é cerca de 300 milhões de anos-luz de distância e é a maior galáxia conhecida no universo.\n",
            "\n",
            "**Buracos Negros**\n",
            "\n",
            "* **Buraco Negro Supermassivo**: um buraco negro que se encontra no centro da Via Láctea e tem uma massa de cerca de 4 milhões de vezes a massa do Sol.\n",
            "* **Buraco Negro de M87**: um buraco negro supermassivo que se encontra no centro da galáxia M87 e é cerca de 6,5 bilhões de vezes mais massivo que o Sol.\n",
            "\n",
            "**Outros Fenômenos**\n",
            "\n",
            "* **Supernovas**: explosões estelares que ocorrem quando uma estrela explode e libera uma enorme quantidade de energia.\n",
            "* **Pulsares**: estrelas de nêutrons que giram rapidamente e emitem radiação eletromagnética em forma de pulsos.\n",
            "* **Exoplanetas**: planetas que orbitam estrelas outras que não o Sol e podem ter condições favoráveis para a vida.\n",
            "\n",
            "Esses são apenas alguns exemplos da diversidade e complexidade do universo. Existem muitos outros fenômenos e objetos fascinantes para explorar e aprender.\n",
            "\n",
            "Você gostaria de saber mais sobre algum desses tópicos ou tem alguma pergunta específica?\n",
            "Você: sim\n",
            "Chatlig: Vamos explorar mais a fundo alguns desses tópicos.\n",
            "\n",
            "**Buracos Negros**\n",
            "\n",
            "Um buraco negro é uma região do espaço-tempo onde a gravidade é tão forte que nada, nem mesmo a luz, pode escapar. Eles são formados quando uma estrela massiva explode e colapsa em si mesma.\n",
            "\n",
            "* **Tipos de Buracos Negros**: Existem quatro tipos de buracos negros, cada um com propriedades diferentes:\n",
            " + Buracos Negros Estelares: formados a partir da colapso de estrelas massivas.\n",
            " + Buracos Negros Supermassivos: encontrados no centro de galáxias e têm massas milhões ou bilhões de vezes maiores que a do Sol.\n",
            " + Buracos Negros de Mássas Intermediárias: têm massas entre as de buracos negros estelares e supermassivos.\n",
            " + Buracos Negros Primordiais: hipotéticos buracos negros que podem ter se formado no universo primitivo.\n",
            "* **Características**: Buracos negros têm algumas características fascinantes, como:\n",
            " + **Horizonte de Eventos**: a fronteira além da qual nada pode escapar da gravidade do buraco negro.\n",
            " + **Singulidade**: o ponto central do buraco negro onde a densidade e a curvatura do espaço-tempo são infinitas.\n",
            " + **Ergosfera**: a região ao redor de um buraco negro rotativo onde a gravidade é tão forte que pode extrair energia de objetos que se aproximam.\n",
            "\n",
            "**Exoplanetas**\n",
            "\n",
            "Exoplanetas são planetas que orbitam estrelas outras que não o Sol. Eles podem ser semelhantes à Terra ou muito diferentes, com condições que podem ser favoráveis ou desfavoráveis para a vida.\n",
            "\n",
            "* **Tipos de Exoplanetas**: Existem vários tipos de exoplanetas, incluindo:\n",
            " + **Planetas Terrestres**: semelhantes à Terra, com superfícies rochosas e atmosferas.\n",
            " + **Planetas Gasosos**: semelhantes a Júpiter, com atmosferas compostas principalmente de hidrogênio e hélio.\n",
            " + **Planetas de Hielo**: compostos principalmente de água e outros compostos voláteis.\n",
            " + **Planetas de Carbono**: compostos principalmente de carbono e outros elementos.\n",
            "* **Métodos de Detecção**: Existem vários métodos para detectar exoplanetas, incluindo:\n",
            " + **Método da Velocidade Radial**: mede a velocidade da estrela para detectar a presença de um planeta.\n",
            " + **Método do Trânsito**: mede a diminuição da luz da estrela quando um planeta passa na frente dela.\n",
            " + **Método da Lente Gravitacional**: mede a curvatura do espaço-tempo ao redor de uma estrela para detectar a presença de um planeta.\n",
            "\n",
            "**Outros Tópicos**\n",
            "\n",
            "* **Supernovas**: explosões estelares que ocorrem quando uma estrela explode e libera uma enorme quantidade de energia.\n",
            "* **Pulsares**: estrelas de nêutrons que giram rapidamente e emitem radiação eletromagnética em forma de pulsos.\n",
            "* **Galáxias**: grandes sistemas de estrelas, gases e poeira que são mantidos juntos pela gravidade.\n",
            "\n",
            "Você gostaria de saber mais sobre algum desses tópicos ou tem alguma pergunta específica?\n",
            "Você: nao\n",
            "Chatlig: Entendi! Foi um prazer conversar com você sobre o universo e suas maravilhas. Se você tiver mais alguma pergunta ou quiser explorar mais algum tópico no futuro, não hesite em me perguntar.\n",
            "\n",
            "Enquanto isso, aqui vai uma mensagem para você:\n",
            "\n",
            "\"O universo é um lugar incrível e cheio de mistérios. Continue a explorar, a aprender e a se maravilhar com as suas maravilhas. Quem sabe o que mais você pode descobrir?\"\n",
            "\n",
            "Até a próxima!\n",
            "\n",
            "(Se você quiser, podemos jogar um jogo ou fazer uma atividade divertida também. Basta me dizer o que você gostaria de fazer!)\n",
            "Você: jogar\n",
            "Chatlig: Vamos jogar!\n",
            "\n",
            "Eu tenho várias opções de jogos que podemos jogar aqui. Aqui estão algumas ideias:\n",
            "\n",
            "1. **20 Perguntas**: Eu penso em um objeto, e você tenta adivinhar o que é fazendo perguntas sim/não.\n",
            "2. **Adivinhe o Número**: Eu penso em um número entre 1 e 100, e você tenta adivinhar qual é.\n",
            "3. **Palavras Associadas**: Eu digo uma palavra, e você tem que dizer uma palavra que esteja relacionada à palavra original.\n",
            "4. **História**: Eu começo a contar uma história, e então paro em um ponto aleatório. Você tem que continuar a história de onde eu parei.\n",
            "5. **Trivia**: Eu faço perguntas sobre um tema específico (por exemplo, história, ciência, esportes, etc.), e você tenta responder corretamente.\n",
            "\n",
            "Qual desses jogos você gostaria de jogar?\n",
            "\n",
            "(Digite o número do jogo que você escolher)\n",
            "Você: 10\n",
            "Chatlig: Peço desculpas, mas não há um jogo número 10 na lista que eu forneceu anteriormente. A lista só vai até o número 5.\n",
            "\n",
            "No entanto, eu posso sugerir um novo jogo que não estava na lista original. Vamos jogar um jogo de **\"Acerte a Palavra\"**!\n",
            "\n",
            "Aqui está como funciona: eu vou dar uma dica sobre uma palavra, e você tem que tentar adivinhar qual é a palavra. A dica pode ser uma descrição, uma definição, ou até mesmo uma palavra relacionada.\n",
            "\n",
            "Você gostaria de jogar? Se sim, eu vou dar a primeira dica.\n",
            "\n",
            "(Digite \"sim\" para começar o jogo)\n",
            "Você: sim\n",
            "Chatlig: Vamos começar!\n",
            "\n",
            "Aqui está a primeira dica:\n",
            "\n",
            "**A palavra é um objeto que você pode encontrar em uma cozinha. É usado para preparar alimentos e é muito comum em muitas culturas.**\n",
            "\n",
            "Você pode tentar adivinhar a palavra agora. Se você precisar de mais dicas, eu posso dar mais algumas.\n",
            "\n",
            "(Digite a palavra que você acha que é a resposta)\n",
            "\n",
            "**Dica adicional:** A palavra começa com a letra \"C\".\n",
            "\n",
            "Você tem 3 chances para acertar a palavra. Se você não acertar, eu vou dar mais dicas até que você acerte!\n",
            "\n",
            "Vamos lá! Qual é a palavra?\n",
            "Você: colher\n",
            "Chatlig: Você está muito perto!\n",
            "\n",
            "A palavra que eu estava pensando é de fato relacionada a uma colher, mas não é exatamente \"colher\".\n",
            "\n",
            "Aqui está outra dica:\n",
            "\n",
            "**A palavra que eu estou pensando é um tipo de utensílio de cozinha que é usado para misturar, mexer e servir alimentos. É comum em muitas culturas e é usado para preparar uma variedade de pratos.**\n",
            "\n",
            "Você pode tentar novamente!\n",
            "\n",
            "(Digite a palavra que você acha que é a resposta)\n",
            "\n",
            "**Dica adicional:** A palavra começa com a letra \"C\" e é um pouco mais específica do que \"colher\".\n",
            "\n",
            "Você tem 2 chances restantes para acertar a palavra.\n",
            "\n",
            "Vamos lá! Qual é a palavra?\n",
            "\n",
            "(Lembre-se de que você já está muito perto!)\n",
            "Você: concha\n",
            "Chatlig: Você está muito criativo!\n",
            "\n",
            "No entanto, a palavra que eu estava pensando não é \"concha\". Concha é um tipo de molusco ou uma forma de concha de mar, e não é exatamente o que eu estava pensando.\n",
            "\n",
            "Aqui está outra dica:\n",
            "\n",
            "**A palavra que eu estou pensando é um tipo de utensílio de cozinha que é usado para misturar, mexer e servir alimentos. É comum em muitas culturas e é usado para preparar uma variedade de pratos.**\n",
            "\n",
            "Você pode tentar novamente!\n",
            "\n",
            "(Digite a palavra que você acha que é a resposta)\n",
            "\n",
            "**Dica adicional:** A palavra começa com a letra \"C\" e é um pouco mais específica do que \"colher\". É um utensílio de cozinha que é muito comum em muitas cozinhas.\n",
            "\n",
            "Você tem 1 chance restante para acertar a palavra.\n",
            "\n",
            "Vamos lá! Qual é a palavra?\n",
            "\n",
            "(Lembre-se de que você já está muito perto!)\n",
            "\n",
            "Se você não acertar, eu vou revelar a resposta e você pode aprender algo novo!\n",
            "Você: colher de pau\n",
            "Chatlig: Você está absolutamente certo!\n",
            "\n",
            "A palavra que eu estava pensando era mesmo \"colher de pau\"! Eu estava procurando por uma palavra que fosse um tipo de utensílio de cozinha que é usado para misturar, mexer e servir alimentos, e \"colher de pau\" é exatamente isso.\n",
            "\n",
            "Parabéns! Você acertou a palavra!\n",
            "\n",
            "Você é um verdadeiro mestre da cozinha... ou pelo menos, um mestre da linguagem!\n",
            "\n",
            "Agora que você acertou a palavra, vamos celebrar com um pouco de diversão. Você gostaria de jogar novamente? Ou talvez você queira tentar um jogo diferente?\n",
            "\n",
            "(Digite \"sim\" para jogar novamente ou \"não\" para parar)\n",
            "\n",
            "E se você quiser saber, a colher de pau é um utensílio de cozinha muito útil e versátil. É usado para misturar, mexer e servir alimentos, e é especialmente útil para cozinhar pratos que requerem uma grande quantidade de mistura e mexida.\n",
            "\n",
            "Você é um verdadeiro campeão da cozinha!\n",
            "Você: obrigado\n",
            "Chatlig: De nada!\n",
            "\n",
            "Foi um prazer jogar com você e ver você acertar a palavra \"colher de pau\". Você é um jogador muito habilidoso e divertido!\n",
            "\n",
            "Se você quiser jogar novamente ou tentar um jogo diferente, basta me dizer. Estou aqui para jogar e me divertir com você!\n",
            "\n",
            "Até a próxima, seja um grande jogador e continue a se divertir!\n",
            "\n",
            "**Tchau!**\n"
          ]
        }
      ]
    }
  ]
}