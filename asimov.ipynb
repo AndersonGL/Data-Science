{
  "cells": [
    {
      "cell_type": "markdown",
      "metadata": {
        "colab_type": "text",
        "id": "view-in-github"
      },
      "source": [
        "<a href=\"https://colab.research.google.com/github/AndersonGL/Data-Science/blob/main/asimov.ipynb\" target=\"_parent\"><img src=\"https://colab.research.google.com/assets/colab-badge.svg\" alt=\"Open In Colab\"/></a>"
      ]
    },
    {
      "cell_type": "code",
      "execution_count": 5,
      "metadata": {
        "id": "W2zT_r3ABWrb"
      },
      "outputs": [],
      "source": [
        "api_key = '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'"
      ]
    },
    {
      "cell_type": "code",
      "execution_count": 1,
      "metadata": {
        "colab": {
          "base_uri": "https://localhost:8080/"
        },
        "id": "mGF332jxBa5N",
        "outputId": "544b3237-6755-4f96-8a3d-bb713f332669"
      },
      "outputs": [
        {
          "name": "stdout",
          "output_type": "stream",
          "text": [
            "Requirement already satisfied: langchain in c:\\users\\anderson g lignelli\\appdata\\local\\programs\\python\\python313\\lib\\site-packages (0.3.18)\n",
            "Requirement already satisfied: langchain-core<1.0.0,>=0.3.34 in c:\\users\\anderson g lignelli\\appdata\\local\\programs\\python\\python313\\lib\\site-packages (from langchain) (0.3.34)\n",
            "Requirement already satisfied: langchain-text-splitters<1.0.0,>=0.3.6 in c:\\users\\anderson g lignelli\\appdata\\local\\programs\\python\\python313\\lib\\site-packages (from langchain) (0.3.6)\n",
            "Requirement already satisfied: langsmith<0.4,>=0.1.17 in c:\\users\\anderson g lignelli\\appdata\\local\\programs\\python\\python313\\lib\\site-packages (from langchain) (0.3.8)\n",
            "Requirement already satisfied: pydantic<3.0.0,>=2.7.4 in c:\\users\\anderson g lignelli\\appdata\\local\\programs\\python\\python313\\lib\\site-packages (from langchain) (2.10.6)\n",
            "Requirement already satisfied: SQLAlchemy<3,>=1.4 in c:\\users\\anderson g lignelli\\appdata\\local\\programs\\python\\python313\\lib\\site-packages (from langchain) (2.0.38)\n",
            "Requirement already satisfied: requests<3,>=2 in c:\\users\\anderson g lignelli\\appdata\\local\\programs\\python\\python313\\lib\\site-packages (from langchain) (2.32.3)\n",
            "Requirement already satisfied: PyYAML>=5.3 in c:\\users\\anderson g lignelli\\appdata\\local\\programs\\python\\python313\\lib\\site-packages (from langchain) (6.0.2)\n",
            "Requirement already satisfied: aiohttp<4.0.0,>=3.8.3 in c:\\users\\anderson g lignelli\\appdata\\local\\programs\\python\\python313\\lib\\site-packages (from langchain) (3.11.12)\n",
            "Requirement already satisfied: tenacity!=8.4.0,<10,>=8.1.0 in c:\\users\\anderson g lignelli\\appdata\\local\\programs\\python\\python313\\lib\\site-packages (from langchain) (9.0.0)\n",
            "Requirement already satisfied: numpy<3,>=1.26.2 in c:\\users\\anderson g lignelli\\appdata\\local\\programs\\python\\python313\\lib\\site-packages (from langchain) (2.2.2)\n",
            "Requirement already satisfied: aiohappyeyeballs>=2.3.0 in c:\\users\\anderson g lignelli\\appdata\\local\\programs\\python\\python313\\lib\\site-packages (from aiohttp<4.0.0,>=3.8.3->langchain) (2.4.6)\n",
            "Requirement already satisfied: aiosignal>=1.1.2 in c:\\users\\anderson g lignelli\\appdata\\local\\programs\\python\\python313\\lib\\site-packages (from aiohttp<4.0.0,>=3.8.3->langchain) (1.3.2)\n",
            "Requirement already satisfied: attrs>=17.3.0 in c:\\users\\anderson g lignelli\\appdata\\local\\programs\\python\\python313\\lib\\site-packages (from aiohttp<4.0.0,>=3.8.3->langchain) (24.3.0)\n",
            "Requirement already satisfied: frozenlist>=1.1.1 in c:\\users\\anderson g lignelli\\appdata\\local\\programs\\python\\python313\\lib\\site-packages (from aiohttp<4.0.0,>=3.8.3->langchain) (1.5.0)\n",
            "Requirement already satisfied: multidict<7.0,>=4.5 in c:\\users\\anderson g lignelli\\appdata\\local\\programs\\python\\python313\\lib\\site-packages (from aiohttp<4.0.0,>=3.8.3->langchain) (6.1.0)\n",
            "Requirement already satisfied: propcache>=0.2.0 in c:\\users\\anderson g lignelli\\appdata\\local\\programs\\python\\python313\\lib\\site-packages (from aiohttp<4.0.0,>=3.8.3->langchain) (0.2.1)\n",
            "Requirement already satisfied: yarl<2.0,>=1.17.0 in c:\\users\\anderson g lignelli\\appdata\\local\\programs\\python\\python313\\lib\\site-packages (from aiohttp<4.0.0,>=3.8.3->langchain) (1.18.3)\n",
            "Requirement already satisfied: jsonpatch<2.0,>=1.33 in c:\\users\\anderson g lignelli\\appdata\\local\\programs\\python\\python313\\lib\\site-packages (from langchain-core<1.0.0,>=0.3.34->langchain) (1.33)\n",
            "Requirement already satisfied: packaging<25,>=23.2 in c:\\users\\anderson g lignelli\\appdata\\roaming\\python\\python313\\site-packages (from langchain-core<1.0.0,>=0.3.34->langchain) (24.2)\n",
            "Requirement already satisfied: typing-extensions>=4.7 in c:\\users\\anderson g lignelli\\appdata\\local\\programs\\python\\python313\\lib\\site-packages (from langchain-core<1.0.0,>=0.3.34->langchain) (4.12.2)\n",
            "Requirement already satisfied: httpx<1,>=0.23.0 in c:\\users\\anderson g lignelli\\appdata\\local\\programs\\python\\python313\\lib\\site-packages (from langsmith<0.4,>=0.1.17->langchain) (0.28.1)\n",
            "Requirement already satisfied: orjson<4.0.0,>=3.9.14 in c:\\users\\anderson g lignelli\\appdata\\local\\programs\\python\\python313\\lib\\site-packages (from langsmith<0.4,>=0.1.17->langchain) (3.10.15)\n",
            "Requirement already satisfied: requests-toolbelt<2.0.0,>=1.0.0 in c:\\users\\anderson g lignelli\\appdata\\local\\programs\\python\\python313\\lib\\site-packages (from langsmith<0.4,>=0.1.17->langchain) (1.0.0)\n",
            "Requirement already satisfied: zstandard<0.24.0,>=0.23.0 in c:\\users\\anderson g lignelli\\appdata\\local\\programs\\python\\python313\\lib\\site-packages (from langsmith<0.4,>=0.1.17->langchain) (0.23.0)\n",
            "Requirement already satisfied: annotated-types>=0.6.0 in c:\\users\\anderson g lignelli\\appdata\\local\\programs\\python\\python313\\lib\\site-packages (from pydantic<3.0.0,>=2.7.4->langchain) (0.7.0)\n",
            "Requirement already satisfied: pydantic-core==2.27.2 in c:\\users\\anderson g lignelli\\appdata\\local\\programs\\python\\python313\\lib\\site-packages (from pydantic<3.0.0,>=2.7.4->langchain) (2.27.2)\n",
            "Requirement already satisfied: charset-normalizer<4,>=2 in c:\\users\\anderson g lignelli\\appdata\\local\\programs\\python\\python313\\lib\\site-packages (from requests<3,>=2->langchain) (3.4.1)\n",
            "Requirement already satisfied: idna<4,>=2.5 in c:\\users\\anderson g lignelli\\appdata\\local\\programs\\python\\python313\\lib\\site-packages (from requests<3,>=2->langchain) (3.10)\n",
            "Requirement already satisfied: urllib3<3,>=1.21.1 in c:\\users\\anderson g lignelli\\appdata\\local\\programs\\python\\python313\\lib\\site-packages (from requests<3,>=2->langchain) (2.3.0)\n",
            "Requirement already satisfied: certifi>=2017.4.17 in c:\\users\\anderson g lignelli\\appdata\\local\\programs\\python\\python313\\lib\\site-packages (from requests<3,>=2->langchain) (2024.12.14)\n",
            "Requirement already satisfied: greenlet!=0.4.17 in c:\\users\\anderson g lignelli\\appdata\\local\\programs\\python\\python313\\lib\\site-packages (from SQLAlchemy<3,>=1.4->langchain) (3.1.1)\n",
            "Requirement already satisfied: anyio in c:\\users\\anderson g lignelli\\appdata\\local\\programs\\python\\python313\\lib\\site-packages (from httpx<1,>=0.23.0->langsmith<0.4,>=0.1.17->langchain) (4.8.0)\n",
            "Requirement already satisfied: httpcore==1.* in c:\\users\\anderson g lignelli\\appdata\\local\\programs\\python\\python313\\lib\\site-packages (from httpx<1,>=0.23.0->langsmith<0.4,>=0.1.17->langchain) (1.0.7)\n",
            "Requirement already satisfied: h11<0.15,>=0.13 in c:\\users\\anderson g lignelli\\appdata\\local\\programs\\python\\python313\\lib\\site-packages (from httpcore==1.*->httpx<1,>=0.23.0->langsmith<0.4,>=0.1.17->langchain) (0.14.0)\n",
            "Requirement already satisfied: jsonpointer>=1.9 in c:\\users\\anderson g lignelli\\appdata\\local\\programs\\python\\python313\\lib\\site-packages (from jsonpatch<2.0,>=1.33->langchain-core<1.0.0,>=0.3.34->langchain) (3.0.0)\n",
            "Requirement already satisfied: sniffio>=1.1 in c:\\users\\anderson g lignelli\\appdata\\local\\programs\\python\\python313\\lib\\site-packages (from anyio->httpx<1,>=0.23.0->langsmith<0.4,>=0.1.17->langchain) (1.3.1)\n",
            "Note: you may need to restart the kernel to use updated packages.\n",
            "Requirement already satisfied: langchain-groq in c:\\users\\anderson g lignelli\\appdata\\local\\programs\\python\\python313\\lib\\site-packages (0.2.0)\n",
            "Requirement already satisfied: groq<1,>=0.4.1 in c:\\users\\anderson g lignelli\\appdata\\local\\programs\\python\\python313\\lib\\site-packages (from langchain-groq) (0.18.0)\n",
            "Requirement already satisfied: langchain-core<0.4,>=0.3 in c:\\users\\anderson g lignelli\\appdata\\local\\programs\\python\\python313\\lib\\site-packages (from langchain-groq) (0.3.34)\n",
            "Requirement already satisfied: anyio<5,>=3.5.0 in c:\\users\\anderson g lignelli\\appdata\\local\\programs\\python\\python313\\lib\\site-packages (from groq<1,>=0.4.1->langchain-groq) (4.8.0)\n",
            "Requirement already satisfied: distro<2,>=1.7.0 in c:\\users\\anderson g lignelli\\appdata\\local\\programs\\python\\python313\\lib\\site-packages (from groq<1,>=0.4.1->langchain-groq) (1.9.0)\n",
            "Requirement already satisfied: httpx<1,>=0.23.0 in c:\\users\\anderson g lignelli\\appdata\\local\\programs\\python\\python313\\lib\\site-packages (from groq<1,>=0.4.1->langchain-groq) (0.28.1)\n",
            "Requirement already satisfied: pydantic<3,>=1.9.0 in c:\\users\\anderson g lignelli\\appdata\\local\\programs\\python\\python313\\lib\\site-packages (from groq<1,>=0.4.1->langchain-groq) (2.10.6)\n",
            "Requirement already satisfied: sniffio in c:\\users\\anderson g lignelli\\appdata\\local\\programs\\python\\python313\\lib\\site-packages (from groq<1,>=0.4.1->langchain-groq) (1.3.1)\n",
            "Requirement already satisfied: typing-extensions<5,>=4.10 in c:\\users\\anderson g lignelli\\appdata\\local\\programs\\python\\python313\\lib\\site-packages (from groq<1,>=0.4.1->langchain-groq) (4.12.2)\n",
            "Requirement already satisfied: langsmith<0.4,>=0.1.125 in c:\\users\\anderson g lignelli\\appdata\\local\\programs\\python\\python313\\lib\\site-packages (from langchain-core<0.4,>=0.3->langchain-groq) (0.3.8)\n",
            "Requirement already satisfied: tenacity!=8.4.0,<10.0.0,>=8.1.0 in c:\\users\\anderson g lignelli\\appdata\\local\\programs\\python\\python313\\lib\\site-packages (from langchain-core<0.4,>=0.3->langchain-groq) (9.0.0)\n",
            "Requirement already satisfied: jsonpatch<2.0,>=1.33 in c:\\users\\anderson g lignelli\\appdata\\local\\programs\\python\\python313\\lib\\site-packages (from langchain-core<0.4,>=0.3->langchain-groq) (1.33)\n",
            "Requirement already satisfied: PyYAML>=5.3 in c:\\users\\anderson g lignelli\\appdata\\local\\programs\\python\\python313\\lib\\site-packages (from langchain-core<0.4,>=0.3->langchain-groq) (6.0.2)\n",
            "Requirement already satisfied: packaging<25,>=23.2 in c:\\users\\anderson g lignelli\\appdata\\roaming\\python\\python313\\site-packages (from langchain-core<0.4,>=0.3->langchain-groq) (24.2)\n",
            "Requirement already satisfied: idna>=2.8 in c:\\users\\anderson g lignelli\\appdata\\local\\programs\\python\\python313\\lib\\site-packages (from anyio<5,>=3.5.0->groq<1,>=0.4.1->langchain-groq) (3.10)\n",
            "Requirement already satisfied: certifi in c:\\users\\anderson g lignelli\\appdata\\local\\programs\\python\\python313\\lib\\site-packages (from httpx<1,>=0.23.0->groq<1,>=0.4.1->langchain-groq) (2024.12.14)\n",
            "Requirement already satisfied: httpcore==1.* in c:\\users\\anderson g lignelli\\appdata\\local\\programs\\python\\python313\\lib\\site-packages (from httpx<1,>=0.23.0->groq<1,>=0.4.1->langchain-groq) (1.0.7)\n",
            "Requirement already satisfied: h11<0.15,>=0.13 in c:\\users\\anderson g lignelli\\appdata\\local\\programs\\python\\python313\\lib\\site-packages (from httpcore==1.*->httpx<1,>=0.23.0->groq<1,>=0.4.1->langchain-groq) (0.14.0)\n",
            "Requirement already satisfied: jsonpointer>=1.9 in c:\\users\\anderson g lignelli\\appdata\\local\\programs\\python\\python313\\lib\\site-packages (from jsonpatch<2.0,>=1.33->langchain-core<0.4,>=0.3->langchain-groq) (3.0.0)\n",
            "Requirement already satisfied: orjson<4.0.0,>=3.9.14 in c:\\users\\anderson g lignelli\\appdata\\local\\programs\\python\\python313\\lib\\site-packages (from langsmith<0.4,>=0.1.125->langchain-core<0.4,>=0.3->langchain-groq) (3.10.15)\n",
            "Requirement already satisfied: requests<3,>=2 in c:\\users\\anderson g lignelli\\appdata\\local\\programs\\python\\python313\\lib\\site-packages (from langsmith<0.4,>=0.1.125->langchain-core<0.4,>=0.3->langchain-groq) (2.32.3)\n",
            "Requirement already satisfied: requests-toolbelt<2.0.0,>=1.0.0 in c:\\users\\anderson g lignelli\\appdata\\local\\programs\\python\\python313\\lib\\site-packages (from langsmith<0.4,>=0.1.125->langchain-core<0.4,>=0.3->langchain-groq) (1.0.0)\n",
            "Requirement already satisfied: zstandard<0.24.0,>=0.23.0 in c:\\users\\anderson g lignelli\\appdata\\local\\programs\\python\\python313\\lib\\site-packages (from langsmith<0.4,>=0.1.125->langchain-core<0.4,>=0.3->langchain-groq) (0.23.0)\n",
            "Requirement already satisfied: annotated-types>=0.6.0 in c:\\users\\anderson g lignelli\\appdata\\local\\programs\\python\\python313\\lib\\site-packages (from pydantic<3,>=1.9.0->groq<1,>=0.4.1->langchain-groq) (0.7.0)\n",
            "Requirement already satisfied: pydantic-core==2.27.2 in c:\\users\\anderson g lignelli\\appdata\\local\\programs\\python\\python313\\lib\\site-packages (from pydantic<3,>=1.9.0->groq<1,>=0.4.1->langchain-groq) (2.27.2)\n",
            "Requirement already satisfied: charset-normalizer<4,>=2 in c:\\users\\anderson g lignelli\\appdata\\local\\programs\\python\\python313\\lib\\site-packages (from requests<3,>=2->langsmith<0.4,>=0.1.125->langchain-core<0.4,>=0.3->langchain-groq) (3.4.1)\n",
            "Requirement already satisfied: urllib3<3,>=1.21.1 in c:\\users\\anderson g lignelli\\appdata\\local\\programs\\python\\python313\\lib\\site-packages (from requests<3,>=2->langsmith<0.4,>=0.1.125->langchain-core<0.4,>=0.3->langchain-groq) (2.3.0)\n",
            "Note: you may need to restart the kernel to use updated packages.\n"
          ]
        }
      ],
      "source": [
        "%pip install langchain\n",
        "%pip install langchain-groq"
      ]
    },
    {
      "cell_type": "code",
      "execution_count": 6,
      "metadata": {
        "id": "6OoOJIdZB05U"
      },
      "outputs": [],
      "source": [
        "import os                                      # Fazendo a primeira chamada ao modelo\n",
        "os.environ['GROQ_API_KEY'] = api_key\n"
      ]
    },
    {
      "cell_type": "code",
      "execution_count": 7,
      "metadata": {
        "id": "pSDiZMu-CR3j"
      },
      "outputs": [],
      "source": [
        "from langchain_groq import ChatGroq\n",
        "chat = ChatGroq(model='llama-3.3-70b-versatile')"
      ]
    },
    {
      "cell_type": "code",
      "execution_count": 8,
      "metadata": {
        "id": "jyRvfIElZr4w"
      },
      "outputs": [],
      "source": [
        "resposta = chat.invoke('Olá modelo! Quem é você?')"
      ]
    },
    {
      "cell_type": "code",
      "execution_count": 10,
      "metadata": {
        "colab": {
          "base_uri": "https://localhost:8080/"
        },
        "id": "DvPchkwMfKbw",
        "outputId": "63f312ee-2263-4c0b-f019-bbe35bc73dd6"
      },
      "outputs": [
        {
          "name": "stdout",
          "output_type": "stream",
          "text": [
            "content='Olá! Eu sou um modelo de inteligência artificial treinado por máquina, desenvolvido para entender e responder a perguntas e conversas de forma natural e intuitiva. Meu objetivo é fornecer informações úteis e precisas, além de ser uma fonte de entretenimento e companhia.\\n\\n**Um pouco sobre mim:**\\n\\n* Eu sou um modelo de linguagem treinado por máquina, o que significa que eu aprendi a partir de um vasto conjunto de dados textuais.\\n* Eu posso entender e responder a perguntas e comandos em português.\\n* Eu tenho conhecimento em uma ampla gama de tópicos, desde notícias e história até ciência e entretenimento.\\n* Eu posso gerar texto, traduzir textos e até mesmo criar histórias curtas.\\n\\n**O que eu posso fazer por você?**\\n\\n* Responder a perguntas sobre qualquer tópico que você esteja interessado.\\n* Fornecer informações sobre notícias atuais e históricas.\\n* Oferecer dicas e conselhos sobre temas variados.\\n* Criar histórias curtas e entretenidas.\\n* Traduzir textos de um idioma para outro.\\n\\nEstou aqui para ajudar e entreter! O que você gostaria de conversar sobre?' additional_kwargs={} response_metadata={'token_usage': {'completion_tokens': 288, 'prompt_tokens': 44, 'total_tokens': 332, 'completion_time': 1.047272727, 'prompt_time': 0.009586494, 'queue_time': 0.276501866, 'total_time': 1.056859221}, 'model_name': 'llama-3.3-70b-versatile', 'system_fingerprint': 'fp_4e32347616', 'finish_reason': 'stop', 'logprobs': None} id='run-952c364c-78ff-4801-a880-31796d0c7d0b-0' usage_metadata={'input_tokens': 44, 'output_tokens': 288, 'total_tokens': 332}\n"
          ]
        }
      ],
      "source": [
        "print(resposta)"
      ]
    },
    {
      "cell_type": "code",
      "execution_count": 11,
      "metadata": {
        "colab": {
          "base_uri": "https://localhost:8080/"
        },
        "id": "v91EyINJfao-",
        "outputId": "ce4a2a85-5850-48f3-a0e6-64ac46586599"
      },
      "outputs": [
        {
          "name": "stdout",
          "output_type": "stream",
          "text": [
            "Olá! Eu sou um modelo de inteligência artificial treinado por máquina, desenvolvido para entender e responder a perguntas e conversas de forma natural e intuitiva. Meu objetivo é fornecer informações úteis e precisas, além de ser uma fonte de entretenimento e companhia.\n",
            "\n",
            "**Um pouco sobre mim:**\n",
            "\n",
            "* Eu sou um modelo de linguagem treinado por máquina, o que significa que eu aprendi a partir de um vasto conjunto de dados textuais.\n",
            "* Eu posso entender e responder a perguntas e comandos em português.\n",
            "* Eu tenho conhecimento em uma ampla gama de tópicos, desde notícias e história até ciência e entretenimento.\n",
            "* Eu posso gerar texto, traduzir textos e até mesmo criar histórias curtas.\n",
            "\n",
            "**O que eu posso fazer por você?**\n",
            "\n",
            "* Responder a perguntas sobre qualquer tópico que você esteja interessado.\n",
            "* Fornecer informações sobre notícias atuais e históricas.\n",
            "* Oferecer dicas e conselhos sobre temas variados.\n",
            "* Criar histórias curtas e entretenidas.\n",
            "* Traduzir textos de um idioma para outro.\n",
            "\n",
            "Estou aqui para ajudar e entreter! O que você gostaria de conversar sobre?\n"
          ]
        }
      ],
      "source": [
        "print(resposta.content)"
      ]
    },
    {
      "cell_type": "code",
      "execution_count": 12,
      "metadata": {
        "colab": {
          "base_uri": "https://localhost:8080/"
        },
        "id": "EqMh4yyxfs9e",
        "outputId": "26a03d82-73a9-43b8-bd57-5d9d0563e051"
      },
      "outputs": [
        {
          "name": "stdout",
          "output_type": "stream",
          "text": [
            "input_variables=['expressao', 'lingua'] input_types={} partial_variables={} messages=[HumanMessagePromptTemplate(prompt=PromptTemplate(input_variables=['expressao', 'lingua'], input_types={}, partial_variables={}, template='Traduza {expressao} para a lingua {lingua}'), additional_kwargs={})]\n"
          ]
        }
      ],
      "source": [
        "from langchain.prompts import ChatPromptTemplate\n",
        "\n",
        "template = ChatPromptTemplate.from_messages(\n",
        "    [('user', 'Traduza {expressao} para a lingua {lingua}')]\n",
        ")\n",
        "print(template)"
      ]
    },
    {
      "cell_type": "code",
      "execution_count": 13,
      "metadata": {
        "colab": {
          "base_uri": "https://localhost:8080/"
        },
        "id": "UbKRKXjximcG",
        "outputId": "625e73fa-b620-4cca-c04a-a7522f7443b8"
      },
      "outputs": [
        {
          "data": {
            "text/plain": [
              "ChatPromptValue(messages=[HumanMessage(content='Traduza Beleza para a lingua Inglesa', additional_kwargs={}, response_metadata={})])"
            ]
          },
          "execution_count": 13,
          "metadata": {},
          "output_type": "execute_result"
        }
      ],
      "source": [
        "template.invoke({'expressao': 'Beleza', 'lingua': 'Inglesa'})"
      ]
    },
    {
      "cell_type": "code",
      "execution_count": 14,
      "metadata": {
        "id": "rQDoAhtxjkKr"
      },
      "outputs": [],
      "source": [
        "import os\n",
        "from langchain_groq import ChatGroq\n",
        "api_key = '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'\n",
        "os.environ['GROQ_API_KEY'] = api_key\n",
        "chat = ChatGroq(model='llama-3.3-70b-versatile')"
      ]
    },
    {
      "cell_type": "code",
      "execution_count": 15,
      "metadata": {
        "id": "2OC7np8AkZWQ"
      },
      "outputs": [],
      "source": [
        "from langchain.prompts import ChatPromptTemplate\n",
        "\n",
        "template = ChatPromptTemplate.from_messages(\n",
        "    [('user', 'Traduza {expressao} para a lingua {lingua}')]\n",
        ")"
      ]
    },
    {
      "cell_type": "code",
      "execution_count": 44,
      "metadata": {
        "id": "GkHaXIwJkjHA"
      },
      "outputs": [],
      "source": [
        "chain = template | chat\n",
        "resposta = chain.invoke({'expressao': 'Beleza', 'lingua': 'Inglesa'})"
      ]
    },
    {
      "cell_type": "code",
      "execution_count": null,
      "metadata": {
        "colab": {
          "base_uri": "https://localhost:8080/"
        },
        "id": "13mx4dsllI_W",
        "outputId": "2601238f-68bc-4f78-ef46-636a4707fc9d"
      },
      "outputs": [
        {
          "name": "stdout",
          "output_type": "stream",
          "text": [
            "Beleza! Isso é fácil, mas vou fazer com um toque de humor. Em inglês, \"Beleza\" se traduz como... (dramático silêncio) ... \"Beauty\"! Mas, entre você e eu, se você é brasileiro, \"beleza\" também pode significar \"OK\" ou \"concordo\", então, se alguém perguntar \"Vamos ao cinema?\" e você disser \"Beleza!\", é como se dissesse \"Beauty-ful, vamos!\" (risos)\n"
          ]
        }
      ],
      "source": [
        "from langchain.prompts import ChatPromptTemplate\n",
        "template = ChatPromptTemplate.from_messages(\n",
        "    [('system', 'Você é um assistente que sempre responde com piadas'),\n",
        "     ('user', 'Traduza {expressao} para a lingua {lingua}')]\n",
        ")\n",
        "chain = template | chat\n",
        "resposta = chain.invoke({'expressao': 'Beleza', 'lingua': 'Inglesa'})\n",
        "print(resposta.content)\n"
      ]
    },
    {
      "cell_type": "code",
      "execution_count": null,
      "metadata": {
        "id": "D_rzAyIusSHx"
      },
      "outputs": [],
      "source": []
    },
    {
      "cell_type": "code",
      "execution_count": null,
      "metadata": {
        "colab": {
          "base_uri": "https://localhost:8080/"
        },
        "id": "-fDvCUuaskVa",
        "outputId": "3a4845a5-fffa-4f2f-f8d4-31c4fee174b1"
      },
      "outputs": [
        {
          "name": "stdout",
          "output_type": "stream",
          "text": [
            "Bem-vindo ao Chatlig\n"
          ]
        }
      ],
      "source": [
        "\n",
        "import os\n",
        "from langchain_groq import ChatGroq\n",
        "from langchain.prompts import ChatPromptTemplate\n",
        "\n",
        "api_key = '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'\n",
        "os.environ['GROQ_API_KEY'] = api_key\n",
        "\n",
        "chat = ChatGroq(model='llama-3.3-70b-versatile')\n",
        "\n",
        "def resposta_bot(mensagens):\n",
        "    mensagens_modelo = [('Você é um asssiste amigavél chamado Chatlig')]\n",
        "    mensagens_modelo += mensagens\n",
        "    template = ChatPromptTemplate.from_messages( mensagens_modelo)\n",
        "    chain = template | chat\n",
        "    return chain.invoke({}).content\n",
        "\n",
        "\n",
        "\n",
        "print('Bem-vindo ao Chatlig')\n",
        "\n",
        "mensagens = []\n",
        "\n",
        "while True:\n",
        "    pergunta = input('Você: ')\n",
        "    if pergunta.lower() == 'x':\n",
        "      break\n",
        "    mensagens.append(('user',pergunta))\n",
        "    resposta = resposta_bot(mensagens)\n",
        "    mensagens.append(('assistant',resposta))\n",
        "    print(f'Chatlig: {resposta}')\n",
        "\n",
        "print('Muito obrigado por usar o assistente Chatlig')\n",
        "print(mensagens)"
      ]
    }
  ],
  "metadata": {
    "colab": {
      "authorship_tag": "ABX9TyPHPGDpDGvT/uJOp+ODenr/",
      "include_colab_link": true,
      "provenance": []
    },
    "kernelspec": {
      "display_name": "Python 3",
      "name": "python3"
    },
    "language_info": {
      "codemirror_mode": {
        "name": "ipython",
        "version": 3
      },
      "file_extension": ".py",
      "mimetype": "text/x-python",
      "name": "python",
      "nbconvert_exporter": "python",
      "pygments_lexer": "ipython3",
      "version": "3.13.1"
    }
  },
  "nbformat": 4,
  "nbformat_minor": 0
}
